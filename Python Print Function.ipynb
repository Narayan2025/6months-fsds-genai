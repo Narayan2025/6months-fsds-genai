{
 "cells": [
  {
   "cell_type": "markdown",
   "id": "ed3590f1-01ec-4bff-a3df-97bc7f3d18a8",
   "metadata": {},
   "source": [
    "#Python Data Type"
   ]
  },
  {
   "cell_type": "code",
   "execution_count": 15,
   "id": "0496147f-ab4a-45e8-b006-9bb839b9d147",
   "metadata": {},
   "outputs": [
    {
     "data": {
      "text/plain": [
       "int"
      ]
     },
     "execution_count": 15,
     "metadata": {},
     "output_type": "execute_result"
    }
   ],
   "source": [
    "a = 20\n",
    "type(a)"
   ]
  },
  {
   "cell_type": "code",
   "execution_count": 16,
   "id": "68999f2b-5974-45af-aa3c-a7dea9808485",
   "metadata": {},
   "outputs": [
    {
     "data": {
      "text/plain": [
       "float"
      ]
     },
     "execution_count": 16,
     "metadata": {},
     "output_type": "execute_result"
    }
   ],
   "source": [
    "f = 10.5\n",
    "type(f)"
   ]
  },
  {
   "cell_type": "code",
   "execution_count": 17,
   "id": "7168464f-a057-4bfc-afc2-3565e4b09c5c",
   "metadata": {},
   "outputs": [
    {
     "data": {
      "text/plain": [
       "bool"
      ]
     },
     "execution_count": 17,
     "metadata": {},
     "output_type": "execute_result"
    }
   ],
   "source": [
    "b = True\n",
    "type(b)"
   ]
  },
  {
   "cell_type": "code",
   "execution_count": 28,
   "id": "e47dbfa7-06f4-4681-8c76-9159702d8c6c",
   "metadata": {},
   "outputs": [
    {
     "data": {
      "text/plain": [
       "bool"
      ]
     },
     "execution_count": 28,
     "metadata": {},
     "output_type": "execute_result"
    }
   ],
   "source": [
    "b = False\n",
    "type(b)"
   ]
  },
  {
   "cell_type": "code",
   "execution_count": 18,
   "id": "f0d4c23a-5a36-408b-ac36-32deafdc3f68",
   "metadata": {},
   "outputs": [
    {
     "data": {
      "text/plain": [
       "str"
      ]
     },
     "execution_count": 18,
     "metadata": {},
     "output_type": "execute_result"
    }
   ],
   "source": [
    "c = 'a'\n",
    "type(c)"
   ]
  },
  {
   "cell_type": "code",
   "execution_count": 19,
   "id": "4a76299e-d999-4930-a460-cea16603bafe",
   "metadata": {},
   "outputs": [
    {
     "data": {
      "text/plain": [
       "complex"
      ]
     },
     "execution_count": 19,
     "metadata": {},
     "output_type": "execute_result"
    }
   ],
   "source": [
    "c = 20 + 10j\n",
    "type(c)"
   ]
  },
  {
   "cell_type": "code",
   "execution_count": 20,
   "id": "28fb08f7-fe16-4793-920c-b3548233f36a",
   "metadata": {},
   "outputs": [
    {
     "data": {
      "text/plain": [
       "10.0"
      ]
     },
     "execution_count": 20,
     "metadata": {},
     "output_type": "execute_result"
    }
   ],
   "source": [
    "f1 = 1e1\n",
    "f1"
   ]
  },
  {
   "cell_type": "code",
   "execution_count": 21,
   "id": "19d1b740-a665-474c-8ce7-4371ee220aba",
   "metadata": {},
   "outputs": [
    {
     "data": {
      "text/plain": [
       "100.0"
      ]
     },
     "execution_count": 21,
     "metadata": {},
     "output_type": "execute_result"
    }
   ],
   "source": [
    "f1 = 1e2\n",
    "f1"
   ]
  },
  {
   "cell_type": "code",
   "execution_count": 23,
   "id": "74aa9b9f-db73-4569-ab4f-be6fff890385",
   "metadata": {},
   "outputs": [
    {
     "data": {
      "text/plain": [
       "1000.0"
      ]
     },
     "execution_count": 23,
     "metadata": {},
     "output_type": "execute_result"
    }
   ],
   "source": [
    "f2 = 1e3\n",
    "f2"
   ]
  },
  {
   "cell_type": "code",
   "execution_count": 26,
   "id": "385bad72-d1fa-49fa-80ed-d543b7652312",
   "metadata": {},
   "outputs": [
    {
     "data": {
      "text/plain": [
       "1.0"
      ]
     },
     "execution_count": 26,
     "metadata": {},
     "output_type": "execute_result"
    }
   ],
   "source": [
    "a = 20\n",
    "b = 20\n",
    "a+b\n",
    "a-b\n",
    "a*b\n",
    "a/b\n"
   ]
  },
  {
   "cell_type": "code",
   "execution_count": 27,
   "id": "5a57a432-429f-4450-ad64-47cf4bb4c36b",
   "metadata": {},
   "outputs": [
    {
     "name": "stdout",
     "output_type": "stream",
     "text": [
      "40\n",
      "0\n",
      "400\n",
      "1.0\n"
     ]
    }
   ],
   "source": [
    "print(a+b)\n",
    "print(a-b)\n",
    "print(a*b)\n",
    "print(a/b)"
   ]
  },
  {
   "cell_type": "markdown",
   "id": "7c26e017-2543-4595-9350-a9bc755fec00",
   "metadata": {},
   "source": [
    "#Print Function"
   ]
  },
  {
   "cell_type": "code",
   "execution_count": 2,
   "id": "4eb9e17e-a07b-4f58-8ceb-2ef232e55544",
   "metadata": {},
   "outputs": [
    {
     "data": {
      "text/plain": [
       "5"
      ]
     },
     "execution_count": 2,
     "metadata": {},
     "output_type": "execute_result"
    }
   ],
   "source": [
    "a = 2\n",
    "b = 5\n",
    "a\n",
    "b"
   ]
  },
  {
   "cell_type": "code",
   "execution_count": 3,
   "id": "0278318e-24fa-4118-8e52-b7dcaa17bb0d",
   "metadata": {},
   "outputs": [
    {
     "name": "stdout",
     "output_type": "stream",
     "text": [
      "10\n",
      "20\n"
     ]
    }
   ],
   "source": [
    "a = 10 \n",
    "b = 20\n",
    "print(a)\n",
    "print(b)"
   ]
  },
  {
   "cell_type": "code",
   "execution_count": 4,
   "id": "5a76a8e6-ac55-4419-a329-a2fb7ecb78e4",
   "metadata": {},
   "outputs": [
    {
     "name": "stdout",
     "output_type": "stream",
     "text": [
      "10\n",
      "20\n",
      "python\n",
      "10 20 python\n"
     ]
    }
   ],
   "source": [
    "print(10)\n",
    "print(20)\n",
    "print('python')\n",
    "print(10,20,'python')"
   ]
  },
  {
   "cell_type": "code",
   "execution_count": 5,
   "id": "0d75b349-1b33-47a7-b4c7-52653349f116",
   "metadata": {},
   "outputs": [
    {
     "name": "stdout",
     "output_type": "stream",
     "text": [
      "30\n"
     ]
    }
   ],
   "source": [
    "num1 = 10\n",
    "num2 = 20\n",
    "add = num1+num2\n",
    "print(add)"
   ]
  },
  {
   "cell_type": "markdown",
   "id": "d2bfa291-ca77-49ca-87dd-04edcd7555e9",
   "metadata": {},
   "source": [
    "# Print Function With String"
   ]
  },
  {
   "cell_type": "code",
   "execution_count": 13,
   "id": "797f226e-8eb5-40eb-b71a-c34c188a4c54",
   "metadata": {},
   "outputs": [
    {
     "name": "stdout",
     "output_type": "stream",
     "text": [
      "The sum of  10 and 15 is = 25\n"
     ]
    }
   ],
   "source": [
    "num1 = 10\n",
    "num2 = 15\n",
    "add  = num1+num2\n",
    "print('The sum of ', num1 , 'and', num2 ,'is =',add)"
   ]
  },
  {
   "cell_type": "code",
   "execution_count": 12,
   "id": "5e182f45-71a1-4128-a120-cc0132e2b647",
   "metadata": {},
   "outputs": [
    {
     "name": "stdout",
     "output_type": "stream",
     "text": [
      "the substraction of  30 and 20 is = 10\n"
     ]
    }
   ],
   "source": [
    "num1 = 30\n",
    "num2 = 20\n",
    "sub  = num1-num2\n",
    "print('the substraction of ' , num1 , 'and' , num2 , 'is =', sub)"
   ]
  },
  {
   "cell_type": "code",
   "execution_count": 14,
   "id": "bbb46b29-77ab-4e7e-8ede-18ab9561651d",
   "metadata": {},
   "outputs": [
    {
     "name": "stdout",
     "output_type": "stream",
     "text": [
      "My name is python and i am  30 years old from  hyd\n"
     ]
    }
   ],
   "source": [
    "name = 'python'\n",
    "age  =  30\n",
    "city = 'hyd'\n",
    "print('My name is', name , 'and i am ' , age , 'years old from ', city)"
   ]
  },
  {
   "cell_type": "code",
   "execution_count": 30,
   "id": "4c90483f-e416-4cfa-a9a5-0d807b90b1ef",
   "metadata": {},
   "outputs": [
    {
     "name": "stdout",
     "output_type": "stream",
     "text": [
      "the addition of 10 and 20 is =30\n"
     ]
    }
   ],
   "source": [
    "num1=10\n",
    "num2=20\n",
    "add=num1+num2\n",
    "print('the addition of {} and {} is ={}'.format(num1,num2,add))"
   ]
  },
  {
   "cell_type": "code",
   "execution_count": 31,
   "id": "ae805bb1-5098-4559-aa03-65fb7a6216ec",
   "metadata": {},
   "outputs": [
    {
     "name": "stdout",
     "output_type": "stream",
     "text": [
      "the substraction of 20 and 30 is=-10\n"
     ]
    }
   ],
   "source": [
    "num1 = 20\n",
    "num2 = 30\n",
    "sub = num1-num2\n",
    "print('the substraction of {} and {} is={}'.format(num1,num2,sub))"
   ]
  },
  {
   "cell_type": "code",
   "execution_count": 33,
   "id": "e483d744-7040-4243-9c7c-fa90827fe226",
   "metadata": {},
   "outputs": [
    {
     "name": "stdout",
     "output_type": "stream",
     "text": [
      "my name is Narayan and i am 30 years old from Hyd\n"
     ]
    }
   ],
   "source": [
    "name = 'Narayan'\n",
    "age = 30\n",
    "city = 'Hyd'\n",
    "print('my name is {} and i am {} years old from {}'.format(name,age,city))"
   ]
  },
  {
   "cell_type": "code",
   "execution_count": null,
   "id": "209ed149-109e-4ea7-a1a0-b9fdd95c0c29",
   "metadata": {},
   "outputs": [],
   "source": []
  }
 ],
 "metadata": {
  "kernelspec": {
   "display_name": "Python [conda env:base] *",
   "language": "python",
   "name": "conda-base-py"
  },
  "language_info": {
   "codemirror_mode": {
    "name": "ipython",
    "version": 3
   },
   "file_extension": ".py",
   "mimetype": "text/x-python",
   "name": "python",
   "nbconvert_exporter": "python",
   "pygments_lexer": "ipython3",
   "version": "3.12.7"
  }
 },
 "nbformat": 4,
 "nbformat_minor": 5
}
